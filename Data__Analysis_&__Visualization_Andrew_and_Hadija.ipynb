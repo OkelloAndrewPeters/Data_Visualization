{
  "nbformat": 4,
  "nbformat_minor": 0,
  "metadata": {
    "colab": {
      "provenance": []
    },
    "kernelspec": {
      "name": "python3",
      "display_name": "Python 3"
    },
    "language_info": {
      "name": "python"
    }
  },
  "cells": [
    {
      "cell_type": "markdown",
      "source": [
        "**We used this notebook to do data cleaning, downloaded the cleaned dataset and took it to PowerBi for data visualization.**"
      ],
      "metadata": {
        "id": "piegt2kRqfo-"
      }
    },
    {
      "cell_type": "code",
      "source": [
        "from google.colab import drive\n",
        "drive.mount('/content/drive')"
      ],
      "metadata": {
        "colab": {
          "base_uri": "https://localhost:8080/"
        },
        "id": "MPY7QfCtqwB1",
        "outputId": "11b48f96-6c15-4705-ec24-01cc7a9720cb"
      },
      "execution_count": 1,
      "outputs": [
        {
          "output_type": "stream",
          "name": "stdout",
          "text": [
            "Mounted at /content/drive\n"
          ]
        }
      ]
    },
    {
      "cell_type": "code",
      "source": [
        "import pandas as pd\n",
        "import numpy as np\n",
        "import matplotlib.pyplot as plt\n",
        "import seaborn as sns\n",
        "import plotly.express as px\n",
        "from sklearn.preprocessing import StandardScaler\n",
        "from sklearn.cluster import KMeans\n",
        "import warnings\n",
        "warnings.filterwarnings('ignore')"
      ],
      "metadata": {
        "id": "M_Xiowlcqyju"
      },
      "execution_count": 2,
      "outputs": []
    },
    {
      "cell_type": "code",
      "source": [
        "file_path = '/content/drive/My Drive/datasets/Ecommerce_Consumer_Behavior_Analysis_Data.csv'\n",
        "df = pd.read_csv(file_path, encoding='ISO-8859-1', keep_default_na=False)"
      ],
      "metadata": {
        "id": "Thy4l6Koq9l9"
      },
      "execution_count": 11,
      "outputs": []
    },
    {
      "cell_type": "code",
      "source": [
        "df.head(5)"
      ],
      "metadata": {
        "colab": {
          "base_uri": "https://localhost:8080/",
          "height": 273
        },
        "id": "jubjzOAJsFC1",
        "outputId": "0e5d0d13-03d6-4ff7-b1c8-69ff947fe1b7"
      },
      "execution_count": 12,
      "outputs": [
        {
          "output_type": "execute_result",
          "data": {
            "text/plain": [
              "   Customer_ID  Age  Gender Income_Level Marital_Status Education_Level  \\\n",
              "0  37-611-6911   22  Female       Middle        Married      Bachelor's   \n",
              "1  29-392-9296   49    Male         High        Married     High School   \n",
              "2  84-649-5117   24  Female       Middle         Single        Master's   \n",
              "3  48-980-6078   29  Female       Middle         Single        Master's   \n",
              "4  91-170-9072   33  Female       Middle        Widowed     High School   \n",
              "\n",
              "  Occupation  Location     Purchase_Category Purchase_Amount  ...  \\\n",
              "0     Middle     Ãvry  Gardening & Outdoors        $333.80   ...   \n",
              "1       High  Huocheng      Food & Beverages        $222.22   ...   \n",
              "2       High    Huzhen       Office Supplies        $426.22   ...   \n",
              "3     Middle   WiwilÃ­       Home Appliances        $101.31   ...   \n",
              "4     Middle      Nara             Furniture        $211.70   ...   \n",
              "\n",
              "   Customer_Satisfaction Engagement_with_Ads  Device_Used_for_Shopping  \\\n",
              "0                      7                None                    Tablet   \n",
              "1                      5                High                    Tablet   \n",
              "2                      7                 Low                Smartphone   \n",
              "3                      1                None                Smartphone   \n",
              "4                     10                None                Smartphone   \n",
              "\n",
              "   Payment_Method  Time_of_Purchase Discount_Used  \\\n",
              "0     Credit Card          3/1/2024          True   \n",
              "1          PayPal         4/16/2024          True   \n",
              "2      Debit Card         3/15/2024          True   \n",
              "3           Other         10/4/2024          True   \n",
              "4      Debit Card         1/30/2024         False   \n",
              "\n",
              "  Customer_Loyalty_Program_Member  Purchase_Intent  Shipping_Preference  \\\n",
              "0                           False       Need-based        No Preference   \n",
              "1                           False      Wants-based             Standard   \n",
              "2                            True        Impulsive        No Preference   \n",
              "3                            True       Need-based              Express   \n",
              "4                           False      Wants-based        No Preference   \n",
              "\n",
              "  Time_to_Decision  \n",
              "0                2  \n",
              "1                6  \n",
              "2                3  \n",
              "3               10  \n",
              "4                4  \n",
              "\n",
              "[5 rows x 28 columns]"
            ],
            "text/html": [
              "\n",
              "  <div id=\"df-5d855088-74db-49a9-a611-bc7409c0948b\" class=\"colab-df-container\">\n",
              "    <div>\n",
              "<style scoped>\n",
              "    .dataframe tbody tr th:only-of-type {\n",
              "        vertical-align: middle;\n",
              "    }\n",
              "\n",
              "    .dataframe tbody tr th {\n",
              "        vertical-align: top;\n",
              "    }\n",
              "\n",
              "    .dataframe thead th {\n",
              "        text-align: right;\n",
              "    }\n",
              "</style>\n",
              "<table border=\"1\" class=\"dataframe\">\n",
              "  <thead>\n",
              "    <tr style=\"text-align: right;\">\n",
              "      <th></th>\n",
              "      <th>Customer_ID</th>\n",
              "      <th>Age</th>\n",
              "      <th>Gender</th>\n",
              "      <th>Income_Level</th>\n",
              "      <th>Marital_Status</th>\n",
              "      <th>Education_Level</th>\n",
              "      <th>Occupation</th>\n",
              "      <th>Location</th>\n",
              "      <th>Purchase_Category</th>\n",
              "      <th>Purchase_Amount</th>\n",
              "      <th>...</th>\n",
              "      <th>Customer_Satisfaction</th>\n",
              "      <th>Engagement_with_Ads</th>\n",
              "      <th>Device_Used_for_Shopping</th>\n",
              "      <th>Payment_Method</th>\n",
              "      <th>Time_of_Purchase</th>\n",
              "      <th>Discount_Used</th>\n",
              "      <th>Customer_Loyalty_Program_Member</th>\n",
              "      <th>Purchase_Intent</th>\n",
              "      <th>Shipping_Preference</th>\n",
              "      <th>Time_to_Decision</th>\n",
              "    </tr>\n",
              "  </thead>\n",
              "  <tbody>\n",
              "    <tr>\n",
              "      <th>0</th>\n",
              "      <td>37-611-6911</td>\n",
              "      <td>22</td>\n",
              "      <td>Female</td>\n",
              "      <td>Middle</td>\n",
              "      <td>Married</td>\n",
              "      <td>Bachelor's</td>\n",
              "      <td>Middle</td>\n",
              "      <td>Ãvry</td>\n",
              "      <td>Gardening &amp; Outdoors</td>\n",
              "      <td>$333.80</td>\n",
              "      <td>...</td>\n",
              "      <td>7</td>\n",
              "      <td>None</td>\n",
              "      <td>Tablet</td>\n",
              "      <td>Credit Card</td>\n",
              "      <td>3/1/2024</td>\n",
              "      <td>True</td>\n",
              "      <td>False</td>\n",
              "      <td>Need-based</td>\n",
              "      <td>No Preference</td>\n",
              "      <td>2</td>\n",
              "    </tr>\n",
              "    <tr>\n",
              "      <th>1</th>\n",
              "      <td>29-392-9296</td>\n",
              "      <td>49</td>\n",
              "      <td>Male</td>\n",
              "      <td>High</td>\n",
              "      <td>Married</td>\n",
              "      <td>High School</td>\n",
              "      <td>High</td>\n",
              "      <td>Huocheng</td>\n",
              "      <td>Food &amp; Beverages</td>\n",
              "      <td>$222.22</td>\n",
              "      <td>...</td>\n",
              "      <td>5</td>\n",
              "      <td>High</td>\n",
              "      <td>Tablet</td>\n",
              "      <td>PayPal</td>\n",
              "      <td>4/16/2024</td>\n",
              "      <td>True</td>\n",
              "      <td>False</td>\n",
              "      <td>Wants-based</td>\n",
              "      <td>Standard</td>\n",
              "      <td>6</td>\n",
              "    </tr>\n",
              "    <tr>\n",
              "      <th>2</th>\n",
              "      <td>84-649-5117</td>\n",
              "      <td>24</td>\n",
              "      <td>Female</td>\n",
              "      <td>Middle</td>\n",
              "      <td>Single</td>\n",
              "      <td>Master's</td>\n",
              "      <td>High</td>\n",
              "      <td>Huzhen</td>\n",
              "      <td>Office Supplies</td>\n",
              "      <td>$426.22</td>\n",
              "      <td>...</td>\n",
              "      <td>7</td>\n",
              "      <td>Low</td>\n",
              "      <td>Smartphone</td>\n",
              "      <td>Debit Card</td>\n",
              "      <td>3/15/2024</td>\n",
              "      <td>True</td>\n",
              "      <td>True</td>\n",
              "      <td>Impulsive</td>\n",
              "      <td>No Preference</td>\n",
              "      <td>3</td>\n",
              "    </tr>\n",
              "    <tr>\n",
              "      <th>3</th>\n",
              "      <td>48-980-6078</td>\n",
              "      <td>29</td>\n",
              "      <td>Female</td>\n",
              "      <td>Middle</td>\n",
              "      <td>Single</td>\n",
              "      <td>Master's</td>\n",
              "      <td>Middle</td>\n",
              "      <td>WiwilÃ­</td>\n",
              "      <td>Home Appliances</td>\n",
              "      <td>$101.31</td>\n",
              "      <td>...</td>\n",
              "      <td>1</td>\n",
              "      <td>None</td>\n",
              "      <td>Smartphone</td>\n",
              "      <td>Other</td>\n",
              "      <td>10/4/2024</td>\n",
              "      <td>True</td>\n",
              "      <td>True</td>\n",
              "      <td>Need-based</td>\n",
              "      <td>Express</td>\n",
              "      <td>10</td>\n",
              "    </tr>\n",
              "    <tr>\n",
              "      <th>4</th>\n",
              "      <td>91-170-9072</td>\n",
              "      <td>33</td>\n",
              "      <td>Female</td>\n",
              "      <td>Middle</td>\n",
              "      <td>Widowed</td>\n",
              "      <td>High School</td>\n",
              "      <td>Middle</td>\n",
              "      <td>Nara</td>\n",
              "      <td>Furniture</td>\n",
              "      <td>$211.70</td>\n",
              "      <td>...</td>\n",
              "      <td>10</td>\n",
              "      <td>None</td>\n",
              "      <td>Smartphone</td>\n",
              "      <td>Debit Card</td>\n",
              "      <td>1/30/2024</td>\n",
              "      <td>False</td>\n",
              "      <td>False</td>\n",
              "      <td>Wants-based</td>\n",
              "      <td>No Preference</td>\n",
              "      <td>4</td>\n",
              "    </tr>\n",
              "  </tbody>\n",
              "</table>\n",
              "<p>5 rows × 28 columns</p>\n",
              "</div>\n",
              "    <div class=\"colab-df-buttons\">\n",
              "\n",
              "  <div class=\"colab-df-container\">\n",
              "    <button class=\"colab-df-convert\" onclick=\"convertToInteractive('df-5d855088-74db-49a9-a611-bc7409c0948b')\"\n",
              "            title=\"Convert this dataframe to an interactive table.\"\n",
              "            style=\"display:none;\">\n",
              "\n",
              "  <svg xmlns=\"http://www.w3.org/2000/svg\" height=\"24px\" viewBox=\"0 -960 960 960\">\n",
              "    <path d=\"M120-120v-720h720v720H120Zm60-500h600v-160H180v160Zm220 220h160v-160H400v160Zm0 220h160v-160H400v160ZM180-400h160v-160H180v160Zm440 0h160v-160H620v160ZM180-180h160v-160H180v160Zm440 0h160v-160H620v160Z\"/>\n",
              "  </svg>\n",
              "    </button>\n",
              "\n",
              "  <style>\n",
              "    .colab-df-container {\n",
              "      display:flex;\n",
              "      gap: 12px;\n",
              "    }\n",
              "\n",
              "    .colab-df-convert {\n",
              "      background-color: #E8F0FE;\n",
              "      border: none;\n",
              "      border-radius: 50%;\n",
              "      cursor: pointer;\n",
              "      display: none;\n",
              "      fill: #1967D2;\n",
              "      height: 32px;\n",
              "      padding: 0 0 0 0;\n",
              "      width: 32px;\n",
              "    }\n",
              "\n",
              "    .colab-df-convert:hover {\n",
              "      background-color: #E2EBFA;\n",
              "      box-shadow: 0px 1px 2px rgba(60, 64, 67, 0.3), 0px 1px 3px 1px rgba(60, 64, 67, 0.15);\n",
              "      fill: #174EA6;\n",
              "    }\n",
              "\n",
              "    .colab-df-buttons div {\n",
              "      margin-bottom: 4px;\n",
              "    }\n",
              "\n",
              "    [theme=dark] .colab-df-convert {\n",
              "      background-color: #3B4455;\n",
              "      fill: #D2E3FC;\n",
              "    }\n",
              "\n",
              "    [theme=dark] .colab-df-convert:hover {\n",
              "      background-color: #434B5C;\n",
              "      box-shadow: 0px 1px 3px 1px rgba(0, 0, 0, 0.15);\n",
              "      filter: drop-shadow(0px 1px 2px rgba(0, 0, 0, 0.3));\n",
              "      fill: #FFFFFF;\n",
              "    }\n",
              "  </style>\n",
              "\n",
              "    <script>\n",
              "      const buttonEl =\n",
              "        document.querySelector('#df-5d855088-74db-49a9-a611-bc7409c0948b button.colab-df-convert');\n",
              "      buttonEl.style.display =\n",
              "        google.colab.kernel.accessAllowed ? 'block' : 'none';\n",
              "\n",
              "      async function convertToInteractive(key) {\n",
              "        const element = document.querySelector('#df-5d855088-74db-49a9-a611-bc7409c0948b');\n",
              "        const dataTable =\n",
              "          await google.colab.kernel.invokeFunction('convertToInteractive',\n",
              "                                                    [key], {});\n",
              "        if (!dataTable) return;\n",
              "\n",
              "        const docLinkHtml = 'Like what you see? Visit the ' +\n",
              "          '<a target=\"_blank\" href=https://colab.research.google.com/notebooks/data_table.ipynb>data table notebook</a>'\n",
              "          + ' to learn more about interactive tables.';\n",
              "        element.innerHTML = '';\n",
              "        dataTable['output_type'] = 'display_data';\n",
              "        await google.colab.output.renderOutput(dataTable, element);\n",
              "        const docLink = document.createElement('div');\n",
              "        docLink.innerHTML = docLinkHtml;\n",
              "        element.appendChild(docLink);\n",
              "      }\n",
              "    </script>\n",
              "  </div>\n",
              "\n",
              "\n",
              "    <div id=\"df-8c32f873-6f78-469f-adb4-eb2e8c0dbbbd\">\n",
              "      <button class=\"colab-df-quickchart\" onclick=\"quickchart('df-8c32f873-6f78-469f-adb4-eb2e8c0dbbbd')\"\n",
              "                title=\"Suggest charts\"\n",
              "                style=\"display:none;\">\n",
              "\n",
              "<svg xmlns=\"http://www.w3.org/2000/svg\" height=\"24px\"viewBox=\"0 0 24 24\"\n",
              "     width=\"24px\">\n",
              "    <g>\n",
              "        <path d=\"M19 3H5c-1.1 0-2 .9-2 2v14c0 1.1.9 2 2 2h14c1.1 0 2-.9 2-2V5c0-1.1-.9-2-2-2zM9 17H7v-7h2v7zm4 0h-2V7h2v10zm4 0h-2v-4h2v4z\"/>\n",
              "    </g>\n",
              "</svg>\n",
              "      </button>\n",
              "\n",
              "<style>\n",
              "  .colab-df-quickchart {\n",
              "      --bg-color: #E8F0FE;\n",
              "      --fill-color: #1967D2;\n",
              "      --hover-bg-color: #E2EBFA;\n",
              "      --hover-fill-color: #174EA6;\n",
              "      --disabled-fill-color: #AAA;\n",
              "      --disabled-bg-color: #DDD;\n",
              "  }\n",
              "\n",
              "  [theme=dark] .colab-df-quickchart {\n",
              "      --bg-color: #3B4455;\n",
              "      --fill-color: #D2E3FC;\n",
              "      --hover-bg-color: #434B5C;\n",
              "      --hover-fill-color: #FFFFFF;\n",
              "      --disabled-bg-color: #3B4455;\n",
              "      --disabled-fill-color: #666;\n",
              "  }\n",
              "\n",
              "  .colab-df-quickchart {\n",
              "    background-color: var(--bg-color);\n",
              "    border: none;\n",
              "    border-radius: 50%;\n",
              "    cursor: pointer;\n",
              "    display: none;\n",
              "    fill: var(--fill-color);\n",
              "    height: 32px;\n",
              "    padding: 0;\n",
              "    width: 32px;\n",
              "  }\n",
              "\n",
              "  .colab-df-quickchart:hover {\n",
              "    background-color: var(--hover-bg-color);\n",
              "    box-shadow: 0 1px 2px rgba(60, 64, 67, 0.3), 0 1px 3px 1px rgba(60, 64, 67, 0.15);\n",
              "    fill: var(--button-hover-fill-color);\n",
              "  }\n",
              "\n",
              "  .colab-df-quickchart-complete:disabled,\n",
              "  .colab-df-quickchart-complete:disabled:hover {\n",
              "    background-color: var(--disabled-bg-color);\n",
              "    fill: var(--disabled-fill-color);\n",
              "    box-shadow: none;\n",
              "  }\n",
              "\n",
              "  .colab-df-spinner {\n",
              "    border: 2px solid var(--fill-color);\n",
              "    border-color: transparent;\n",
              "    border-bottom-color: var(--fill-color);\n",
              "    animation:\n",
              "      spin 1s steps(1) infinite;\n",
              "  }\n",
              "\n",
              "  @keyframes spin {\n",
              "    0% {\n",
              "      border-color: transparent;\n",
              "      border-bottom-color: var(--fill-color);\n",
              "      border-left-color: var(--fill-color);\n",
              "    }\n",
              "    20% {\n",
              "      border-color: transparent;\n",
              "      border-left-color: var(--fill-color);\n",
              "      border-top-color: var(--fill-color);\n",
              "    }\n",
              "    30% {\n",
              "      border-color: transparent;\n",
              "      border-left-color: var(--fill-color);\n",
              "      border-top-color: var(--fill-color);\n",
              "      border-right-color: var(--fill-color);\n",
              "    }\n",
              "    40% {\n",
              "      border-color: transparent;\n",
              "      border-right-color: var(--fill-color);\n",
              "      border-top-color: var(--fill-color);\n",
              "    }\n",
              "    60% {\n",
              "      border-color: transparent;\n",
              "      border-right-color: var(--fill-color);\n",
              "    }\n",
              "    80% {\n",
              "      border-color: transparent;\n",
              "      border-right-color: var(--fill-color);\n",
              "      border-bottom-color: var(--fill-color);\n",
              "    }\n",
              "    90% {\n",
              "      border-color: transparent;\n",
              "      border-bottom-color: var(--fill-color);\n",
              "    }\n",
              "  }\n",
              "</style>\n",
              "\n",
              "      <script>\n",
              "        async function quickchart(key) {\n",
              "          const quickchartButtonEl =\n",
              "            document.querySelector('#' + key + ' button');\n",
              "          quickchartButtonEl.disabled = true;  // To prevent multiple clicks.\n",
              "          quickchartButtonEl.classList.add('colab-df-spinner');\n",
              "          try {\n",
              "            const charts = await google.colab.kernel.invokeFunction(\n",
              "                'suggestCharts', [key], {});\n",
              "          } catch (error) {\n",
              "            console.error('Error during call to suggestCharts:', error);\n",
              "          }\n",
              "          quickchartButtonEl.classList.remove('colab-df-spinner');\n",
              "          quickchartButtonEl.classList.add('colab-df-quickchart-complete');\n",
              "        }\n",
              "        (() => {\n",
              "          let quickchartButtonEl =\n",
              "            document.querySelector('#df-8c32f873-6f78-469f-adb4-eb2e8c0dbbbd button');\n",
              "          quickchartButtonEl.style.display =\n",
              "            google.colab.kernel.accessAllowed ? 'block' : 'none';\n",
              "        })();\n",
              "      </script>\n",
              "    </div>\n",
              "\n",
              "    </div>\n",
              "  </div>\n"
            ],
            "application/vnd.google.colaboratory.intrinsic+json": {
              "type": "dataframe",
              "variable_name": "df"
            }
          },
          "metadata": {},
          "execution_count": 12
        }
      ]
    },
    {
      "cell_type": "code",
      "source": [
        "print(\"Initial shape:\", df.shape)"
      ],
      "metadata": {
        "colab": {
          "base_uri": "https://localhost:8080/"
        },
        "id": "HJcVxuMNs4Pt",
        "outputId": "5cb5fe3d-51be-4e97-840a-503b660a2645"
      },
      "execution_count": 13,
      "outputs": [
        {
          "output_type": "stream",
          "name": "stdout",
          "text": [
            "Initial shape: (1000, 28)\n"
          ]
        }
      ]
    },
    {
      "cell_type": "code",
      "source": [
        "print(\"\\nData types:\\n\", df.dtypes)"
      ],
      "metadata": {
        "colab": {
          "base_uri": "https://localhost:8080/"
        },
        "id": "qInu0Dcpt7W2",
        "outputId": "3b47c34e-4be2-41d3-d856-530f5af3b526"
      },
      "execution_count": 14,
      "outputs": [
        {
          "output_type": "stream",
          "name": "stdout",
          "text": [
            "\n",
            "Data types:\n",
            " Customer_ID                               object\n",
            "Age                                        int64\n",
            "Gender                                    object\n",
            "Income_Level                              object\n",
            "Marital_Status                            object\n",
            "Education_Level                           object\n",
            "Occupation                                object\n",
            "Location                                  object\n",
            "Purchase_Category                         object\n",
            "Purchase_Amount                           object\n",
            "Frequency_of_Purchase                      int64\n",
            "Purchase_Channel                          object\n",
            "Brand_Loyalty                              int64\n",
            "Product_Rating                             int64\n",
            "Time_Spent_on_Product_Research(hours)    float64\n",
            "Social_Media_Influence                    object\n",
            "Discount_Sensitivity                      object\n",
            "Return_Rate                                int64\n",
            "Customer_Satisfaction                      int64\n",
            "Engagement_with_Ads                       object\n",
            "Device_Used_for_Shopping                  object\n",
            "Payment_Method                            object\n",
            "Time_of_Purchase                          object\n",
            "Discount_Used                               bool\n",
            "Customer_Loyalty_Program_Member             bool\n",
            "Purchase_Intent                           object\n",
            "Shipping_Preference                       object\n",
            "Time_to_Decision                           int64\n",
            "dtype: object\n"
          ]
        }
      ]
    },
    {
      "cell_type": "code",
      "source": [],
      "metadata": {
        "id": "RtGdF4GOt9al"
      },
      "execution_count": null,
      "outputs": []
    },
    {
      "cell_type": "markdown",
      "source": [
        "**Checking for null values**"
      ],
      "metadata": {
        "id": "D6UuvV3ksUFu"
      }
    },
    {
      "cell_type": "code",
      "source": [
        "print(\"\\nMissing values:\\n\", df.isnull().sum())"
      ],
      "metadata": {
        "colab": {
          "base_uri": "https://localhost:8080/"
        },
        "id": "MRC4jOsxsOdl",
        "outputId": "e29ae053-ad69-4a96-c576-d92c606ffdb2"
      },
      "execution_count": 15,
      "outputs": [
        {
          "output_type": "stream",
          "name": "stdout",
          "text": [
            "\n",
            "Missing values:\n",
            " Customer_ID                              0\n",
            "Age                                      0\n",
            "Gender                                   0\n",
            "Income_Level                             0\n",
            "Marital_Status                           0\n",
            "Education_Level                          0\n",
            "Occupation                               0\n",
            "Location                                 0\n",
            "Purchase_Category                        0\n",
            "Purchase_Amount                          0\n",
            "Frequency_of_Purchase                    0\n",
            "Purchase_Channel                         0\n",
            "Brand_Loyalty                            0\n",
            "Product_Rating                           0\n",
            "Time_Spent_on_Product_Research(hours)    0\n",
            "Social_Media_Influence                   0\n",
            "Discount_Sensitivity                     0\n",
            "Return_Rate                              0\n",
            "Customer_Satisfaction                    0\n",
            "Engagement_with_Ads                      0\n",
            "Device_Used_for_Shopping                 0\n",
            "Payment_Method                           0\n",
            "Time_of_Purchase                         0\n",
            "Discount_Used                            0\n",
            "Customer_Loyalty_Program_Member          0\n",
            "Purchase_Intent                          0\n",
            "Shipping_Preference                      0\n",
            "Time_to_Decision                         0\n",
            "dtype: int64\n"
          ]
        }
      ]
    },
    {
      "cell_type": "markdown",
      "source": [
        "**Converting Purchase_Amount to numeric**"
      ],
      "metadata": {
        "id": "LI7XmwtUvnO3"
      }
    },
    {
      "cell_type": "code",
      "source": [
        "# Removing dollar sign and convert to float\n",
        "df['Purchase_Amount'] = df['Purchase_Amount'].replace('[\\$,]', '', regex=True).astype(float)"
      ],
      "metadata": {
        "id": "E3Ygp68Msdft"
      },
      "execution_count": 16,
      "outputs": []
    },
    {
      "cell_type": "markdown",
      "source": [
        "**Converting Time_of_Purchase to datetime**"
      ],
      "metadata": {
        "id": "KsILfrquvuk-"
      }
    },
    {
      "cell_type": "code",
      "source": [
        "df['Time_of_Purchase'] = pd.to_datetime(df['Time_of_Purchase'], errors='coerce')"
      ],
      "metadata": {
        "id": "3NAxLsqWvtlO"
      },
      "execution_count": 17,
      "outputs": []
    },
    {
      "cell_type": "markdown",
      "source": [
        "**Features to extract for deeper analysis**"
      ],
      "metadata": {
        "id": "UvNn9984v6GN"
      }
    },
    {
      "cell_type": "code",
      "source": [
        "# Extracting time-based features\n",
        "df['Purchase_Hour'] = df['Time_of_Purchase'].dt.hour\n",
        "df['Purchase_Weekday'] = df['Time_of_Purchase'].dt.day_name()\n",
        "df['Purchase_Month'] = df['Time_of_Purchase'].dt.month\n",
        "df['Purchase_Year'] = df['Time_of_Purchase'].dt.year"
      ],
      "metadata": {
        "id": "7q4MkFjzv1Nd"
      },
      "execution_count": 18,
      "outputs": []
    },
    {
      "cell_type": "code",
      "source": [
        "# Previewing new features\n",
        "print(df[['Time_of_Purchase', 'Purchase_Hour', 'Purchase_Weekday', 'Purchase_Month', 'Purchase_Year']].head(5))"
      ],
      "metadata": {
        "colab": {
          "base_uri": "https://localhost:8080/"
        },
        "id": "vT4o5jyqwJ_-",
        "outputId": "09f78304-8e50-4467-d901-9d4d5c3afef4"
      },
      "execution_count": 19,
      "outputs": [
        {
          "output_type": "stream",
          "name": "stdout",
          "text": [
            "  Time_of_Purchase  Purchase_Hour Purchase_Weekday  Purchase_Month  \\\n",
            "0       2024-03-01              0           Friday               3   \n",
            "1       2024-04-16              0          Tuesday               4   \n",
            "2       2024-03-15              0           Friday               3   \n",
            "3       2024-10-04              0           Friday              10   \n",
            "4       2024-01-30              0          Tuesday               1   \n",
            "\n",
            "   Purchase_Year  \n",
            "0           2024  \n",
            "1           2024  \n",
            "2           2024  \n",
            "3           2024  \n",
            "4           2024  \n"
          ]
        }
      ]
    },
    {
      "cell_type": "markdown",
      "source": [
        "**Downlaoding the cleaned dataset**"
      ],
      "metadata": {
        "id": "9x0yITEawchX"
      }
    },
    {
      "cell_type": "code",
      "source": [
        "df.to_csv('cleaned_ecommerce_data.csv', index=False)"
      ],
      "metadata": {
        "id": "O1M2-tDbwSeN"
      },
      "execution_count": 20,
      "outputs": []
    },
    {
      "cell_type": "code",
      "source": [
        "from google.colab import files\n",
        "files.download('cleaned_ecommerce_data.csv')"
      ],
      "metadata": {
        "colab": {
          "base_uri": "https://localhost:8080/",
          "height": 17
        },
        "id": "Qg5xUVAPwi59",
        "outputId": "99084ea5-659a-466f-b749-84bedad3c806"
      },
      "execution_count": 21,
      "outputs": [
        {
          "output_type": "display_data",
          "data": {
            "text/plain": [
              "<IPython.core.display.Javascript object>"
            ],
            "application/javascript": [
              "\n",
              "    async function download(id, filename, size) {\n",
              "      if (!google.colab.kernel.accessAllowed) {\n",
              "        return;\n",
              "      }\n",
              "      const div = document.createElement('div');\n",
              "      const label = document.createElement('label');\n",
              "      label.textContent = `Downloading \"${filename}\": `;\n",
              "      div.appendChild(label);\n",
              "      const progress = document.createElement('progress');\n",
              "      progress.max = size;\n",
              "      div.appendChild(progress);\n",
              "      document.body.appendChild(div);\n",
              "\n",
              "      const buffers = [];\n",
              "      let downloaded = 0;\n",
              "\n",
              "      const channel = await google.colab.kernel.comms.open(id);\n",
              "      // Send a message to notify the kernel that we're ready.\n",
              "      channel.send({})\n",
              "\n",
              "      for await (const message of channel.messages) {\n",
              "        // Send a message to notify the kernel that we're ready.\n",
              "        channel.send({})\n",
              "        if (message.buffers) {\n",
              "          for (const buffer of message.buffers) {\n",
              "            buffers.push(buffer);\n",
              "            downloaded += buffer.byteLength;\n",
              "            progress.value = downloaded;\n",
              "          }\n",
              "        }\n",
              "      }\n",
              "      const blob = new Blob(buffers, {type: 'application/binary'});\n",
              "      const a = document.createElement('a');\n",
              "      a.href = window.URL.createObjectURL(blob);\n",
              "      a.download = filename;\n",
              "      div.appendChild(a);\n",
              "      a.click();\n",
              "      div.remove();\n",
              "    }\n",
              "  "
            ]
          },
          "metadata": {}
        },
        {
          "output_type": "display_data",
          "data": {
            "text/plain": [
              "<IPython.core.display.Javascript object>"
            ],
            "application/javascript": [
              "download(\"download_9523be9a-7c3f-4dcb-8ebd-67503d09fa5e\", \"cleaned_ecommerce_data.csv\", 211995)"
            ]
          },
          "metadata": {}
        }
      ]
    },
    {
      "cell_type": "code",
      "source": [],
      "metadata": {
        "id": "DQrsDBcEwk11"
      },
      "execution_count": null,
      "outputs": []
    }
  ]
}